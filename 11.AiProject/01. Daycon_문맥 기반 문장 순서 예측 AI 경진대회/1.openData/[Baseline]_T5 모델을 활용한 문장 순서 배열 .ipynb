{
 "cells": [
  {
   "cell_type": "markdown",
   "metadata": {},
   "source": [
    "# Import "
   ]
  },
  {
   "cell_type": "code",
   "execution_count": 6,
   "metadata": {},
   "outputs": [],
   "source": [
    "import pandas as pd\n",
    "\n",
    "from sklearn.model_selection import train_test_split\n",
    "\n",
    "from transformers import T5Tokenizer, T5ForConditionalGeneration, Trainer, TrainingArguments\n",
    "from datasets import Dataset\n",
    "import torch\n",
    "\n",
    "from tqdm import tqdm"
   ]
  },
  {
   "cell_type": "markdown",
   "metadata": {},
   "source": [
    "# Data load & Pre-processing"
   ]
  },
  {
   "cell_type": "code",
   "execution_count": 7,
   "metadata": {},
   "outputs": [],
   "source": [
    "train = pd.read_csv('./train.csv')"
   ]
  },
  {
   "cell_type": "code",
   "execution_count": 8,
   "metadata": {},
   "outputs": [],
   "source": [
    "# 입력 텍스트와 타겟 텍스트를 구성하는 함수\n",
    "def make_input(row):\n",
    "    sentences = [row[f\"sentence_{i}\"] for i in range(4)]\n",
    "    input_text = \"문장을 순서대로 정렬하세요: \" + \" </s> \".join(sentences)\n",
    "    answer = [row[f\"answer_{i}\"] for i in range(4)]\n",
    "    target_text = \" \".join(map(str, answer))  # 예: \"0 3 1 2\"\n",
    "    return {\"input\": input_text, \"target\": target_text}"
   ]
  },
  {
   "cell_type": "code",
   "execution_count": 9,
   "metadata": {},
   "outputs": [],
   "source": [
    "# 데이터셋 가공 및 분할\n",
    "inputs = train.apply(make_input, axis=1).tolist()\n",
    "train_data, valid_data = train_test_split(inputs, test_size=0.2, random_state=42)\n",
    "\n",
    "train_dataset = Dataset.from_pandas(pd.DataFrame(train_data))\n",
    "valid_dataset = Dataset.from_pandas(pd.DataFrame(valid_data))"
   ]
  },
  {
   "cell_type": "markdown",
   "metadata": {},
   "source": [
    "# Model Load"
   ]
  },
  {
   "cell_type": "code",
   "execution_count": null,
   "metadata": {},
   "outputs": [],
   "source": [
    "# 토크나이저 및 모델 로딩\n",
    "model_name = \"t5-small\"\n",
    "device = torch.device(\"cuda\" if torch.cuda.is_available() else \"cpu\")\n",
    "\n",
    "tokenizer = T5Tokenizer.from_pretrained(model_name)\n",
    "model = T5ForConditionalGeneration.from_pretrained(model_name)\n",
    "model.to(device)"
   ]
  },
  {
   "cell_type": "markdown",
   "metadata": {},
   "source": [
    "# Train"
   ]
  },
  {
   "cell_type": "code",
   "execution_count": null,
   "metadata": {},
   "outputs": [],
   "source": [
    "# 토크나이징 함수 정의\n",
    "def tokenize(example):\n",
    "    model_inputs = tokenizer(example[\"input\"], max_length=512, truncation=True, padding=\"max_length\")\n",
    "    labels = tokenizer(example[\"target\"], max_length=16, truncation=True, padding=\"max_length\")\n",
    "    model_inputs[\"labels\"] = labels[\"input_ids\"]\n",
    "    return model_inputs\n",
    "\n",
    "# 데이터셋 토크나이징\n",
    "tokenized_train = train_dataset.map(tokenize, batched=True)\n",
    "tokenized_valid = valid_dataset.map(tokenize, batched=True)"
   ]
  },
  {
   "cell_type": "code",
   "execution_count": null,
   "metadata": {},
   "outputs": [],
   "source": [
    "# 학습 설정\n",
    "training_args = TrainingArguments(\n",
    "    output_dir=\"./results\",\n",
    "    learning_rate=2e-5,\n",
    "    per_device_train_batch_size=8,\n",
    "    per_device_eval_batch_size=8,\n",
    "    num_train_epochs=30,\n",
    ")\n",
    "\n",
    "# Trainer 정의 및 학습\n",
    "trainer = Trainer(\n",
    "    model=model,\n",
    "    args=training_args,\n",
    "    train_dataset=tokenized_train,\n",
    "    eval_dataset=tokenized_valid,\n",
    ")\n",
    "\n",
    "trainer.train()"
   ]
  },
  {
   "cell_type": "code",
   "execution_count": 13,
   "metadata": {},
   "outputs": [],
   "source": [
    "tokenizer.save_pretrained(\"./results\")\n",
    "model.save_pretrained(\"./results\")"
   ]
  },
  {
   "cell_type": "markdown",
   "metadata": {},
   "source": [
    "# Inference"
   ]
  },
  {
   "cell_type": "code",
   "execution_count": null,
   "metadata": {},
   "outputs": [],
   "source": [
    "# 모델 로드\n",
    "model_dir = \"./results\"\n",
    "tokenizer = T5Tokenizer.from_pretrained(model_dir)\n",
    "model = T5ForConditionalGeneration.from_pretrained(model_dir)\n",
    "model.eval()"
   ]
  },
  {
   "cell_type": "code",
   "execution_count": null,
   "metadata": {},
   "outputs": [],
   "source": [
    "# 테스트 데이터\n",
    "test = pd.read_csv(\"./test.csv\")\n",
    "sentences = test[[f\"sentence_{i}\" for i in range(4)]].values.tolist()\n",
    "\n",
    "# 추론 함수\n",
    "def predict_order(sent_list):\n",
    "    input_text = \"문장을 순서대로 정렬하세요: \" + \" </s> \".join(sent_list)\n",
    "    inputs = tokenizer(\n",
    "        input_text,\n",
    "        return_tensors=\"pt\",\n",
    "        truncation=True,\n",
    "        padding=\"longest\",\n",
    "        max_length=512\n",
    "    ).to(model.device)\n",
    "\n",
    "    with torch.no_grad():\n",
    "        output = model.generate(\n",
    "            **inputs,\n",
    "            max_length=16,\n",
    "            do_sample=True,      \n",
    "            temperature=0.2,     \n",
    "            top_p=0.9,            \n",
    "            pad_token_id=tokenizer.eos_token_id\n",
    "        )\n",
    "\n",
    "    decoded = tokenizer.decode(output[0], skip_special_tokens=True)\n",
    "    \n",
    "    try:\n",
    "        order = list(map(int, decoded.strip().split()))\n",
    "        return order\n",
    "    except:\n",
    "        return [0, 1, 2, 3]\n",
    "\n",
    "# 예측\n",
    "predictions = []\n",
    "for sent_group in tqdm(sentences, desc=\"Predicting\"):\n",
    "    pred = predict_order(sent_group)\n",
    "    predictions.append(pred)"
   ]
  },
  {
   "cell_type": "markdown",
   "metadata": {},
   "source": [
    "# Submission"
   ]
  },
  {
   "cell_type": "code",
   "execution_count": null,
   "metadata": {},
   "outputs": [],
   "source": [
    "# sample_submission 불러오기\n",
    "sample_submission = pd.read_csv(\"./sample_submission.csv\")\n",
    "\n",
    "# 예측 결과 적용\n",
    "for i in range(4):\n",
    "    sample_submission[f\"answer_{i}\"] = [\n",
    "        pred[i] if len(pred) == 4 else i for pred in predictions\n",
    "    ]\n",
    "\n",
    "# 저장\n",
    "sample_submission.to_csv(\"baseline_submission.csv\", index=False)"
   ]
  }
 ],
 "metadata": {
  "kernelspec": {
   "display_name": "Python 3 (ipykernel)",
   "language": "python",
   "name": "python3"
  },
  "language_info": {
   "codemirror_mode": {
    "name": "ipython",
    "version": 3
   },
   "file_extension": ".py",
   "mimetype": "text/x-python",
   "name": "python",
   "nbconvert_exporter": "python",
   "pygments_lexer": "ipython3",
   "version": "3.10.12"
  }
 },
 "nbformat": 4,
 "nbformat_minor": 4
}
